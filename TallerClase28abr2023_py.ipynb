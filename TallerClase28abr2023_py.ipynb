{
  "nbformat": 4,
  "nbformat_minor": 0,
  "metadata": {
    "colab": {
      "provenance": [],
      "authorship_tag": "ABX9TyNe77QeSpn84uFq4T8Ite3R",
      "include_colab_link": true
    },
    "kernelspec": {
      "name": "python3",
      "display_name": "Python 3"
    },
    "language_info": {
      "name": "python"
    }
  },
  "cells": [
    {
      "cell_type": "markdown",
      "metadata": {
        "id": "view-in-github",
        "colab_type": "text"
      },
      "source": [
        "<a href=\"https://colab.research.google.com/github/KarolSalazar/tareas_de_clase/blob/master/TallerClase28abr2023_py.ipynb\" target=\"_parent\"><img src=\"https://colab.research.google.com/assets/colab-badge.svg\" alt=\"Open In Colab\"/></a>"
      ]
    },
    {
      "cell_type": "code",
      "execution_count": null,
      "metadata": {
        "id": "dz6jxwGmvIl3"
      },
      "outputs": [],
      "source": [
        "L=[['Alice',0,3],\n",
        "  ['Bob',1,2],\n",
        "  ['Alice',3,1],\n",
        "  ['Alice',8,0],\n",
        "  ['Bob',3,2]\n",
        "  ]"
      ]
    },
    {
      "cell_type": "code",
      "source": [
        "print(list(filter(lambda x: x[0]== 'Alice', L)))"
      ],
      "metadata": {
        "colab": {
          "base_uri": "https://localhost:8080/"
        },
        "id": "2SOq6zFuwvuk",
        "outputId": "7b85edf6-b1ac-4206-94a8-9289d721cfc8"
      },
      "execution_count": null,
      "outputs": [
        {
          "output_type": "stream",
          "name": "stdout",
          "text": [
            "[['Alice', 0, 3], ['Alice', 3, 1], ['Alice', 8, 0]]\n"
          ]
        }
      ]
    },
    {
      "cell_type": "code",
      "source": [
        "list(\"Santiago\")"
      ],
      "metadata": {
        "colab": {
          "base_uri": "https://localhost:8080/"
        },
        "id": "teG9NROIx-Pp",
        "outputId": "49ac33b0-39fe-4d0f-b125-5cb18d46d763"
      },
      "execution_count": null,
      "outputs": [
        {
          "output_type": "execute_result",
          "data": {
            "text/plain": [
              "['S', 'a', 'n', 't', 'i', 'a', 'g', 'o']"
            ]
          },
          "metadata": {},
          "execution_count": 9
        }
      ]
    },
    {
      "cell_type": "markdown",
      "source": [
        "Solución Taller Python Funcional"
      ],
      "metadata": {
        "id": "yCb4jAad07xN"
      }
    },
    {
      "cell_type": "markdown",
      "source": [
        "Escriba un programa en Python para triplicar todos los números en una lista dada de enteros."
      ],
      "metadata": {
        "id": "_XBsdp9IPGj6"
      }
    },
    {
      "cell_type": "code",
      "source": [
        "lista_enteros = [1, 2, 3, 4, 5]\n",
        "\n",
        "lista_sol = list(map(lambda x: x * 3, lista_enteros))\n",
        "\n",
        "print(\"Lista original:\", lista_enteros)\n",
        "print(\"Lista solución:\", lista_triplicada)"
      ],
      "metadata": {
        "id": "ieO134KA0JA_",
        "colab": {
          "base_uri": "https://localhost:8080/"
        },
        "outputId": "6cb339a0-eb30-4a2a-f673-ec165911a465"
      },
      "execution_count": 2,
      "outputs": [
        {
          "output_type": "stream",
          "name": "stdout",
          "text": [
            "Lista original: [1, 2, 3, 4, 5]\n",
            "Lista solución: [3, 6, 9, 12, 15]\n"
          ]
        }
      ]
    },
    {
      "cell_type": "markdown",
      "source": [
        "Escriba un programa de Python para agregar tres listas dadas."
      ],
      "metadata": {
        "id": "38Cjl-wtQRLS"
      }
    },
    {
      "cell_type": "code",
      "source": [
        "lista1 = [1, 2, 3]\n",
        "lista2 = [4, 5, 6]\n",
        "lista3 = [7, 8, 9]\n",
        "\n",
        "resultado = list(map(lambda x, y, z: x + y + z, lista1, lista2, lista3))\n",
        "\n",
        "print(resultado)"
      ],
      "metadata": {
        "colab": {
          "base_uri": "https://localhost:8080/"
        },
        "id": "pgiMGeJ9QT2q",
        "outputId": "b325cee6-1bec-4b9b-80fb-dc9eb6fde0a5"
      },
      "execution_count": 3,
      "outputs": [
        {
          "output_type": "stream",
          "name": "stdout",
          "text": [
            "[12, 15, 18]\n"
          ]
        }
      ]
    },
    {
      "cell_type": "markdown",
      "source": [
        "Escriba un programa de Python para listar la lista de cadenas dadas individualmente."
      ],
      "metadata": {
        "id": "Y62XrbRGQbUh"
      }
    },
    {
      "cell_type": "code",
      "source": [
        "lista = ['el', 'poderoso', 'paco']\n",
        "\n",
        "list(map(lambda x: print(x), lista))"
      ],
      "metadata": {
        "colab": {
          "base_uri": "https://localhost:8080/"
        },
        "id": "Lcnd-pC9QdS5",
        "outputId": "f252becc-3d53-4128-88e2-53a99c959082"
      },
      "execution_count": 4,
      "outputs": [
        {
          "output_type": "stream",
          "name": "stdout",
          "text": [
            "el\n",
            "poderoso\n",
            "paco\n"
          ]
        },
        {
          "output_type": "execute_result",
          "data": {
            "text/plain": [
              "[None, None, None]"
            ]
          },
          "metadata": {},
          "execution_count": 4
        }
      ]
    },
    {
      "cell_type": "markdown",
      "source": [
        "Escriba un programa en Python para crear una lista que contenga la potencia de dicho número en bases elevadas al número correspondiente en el índice."
      ],
      "metadata": {
        "id": "l_0dGOwYQqCp"
      }
    },
    {
      "cell_type": "code",
      "source": [
        "base = 2\n",
        "exp = [0, 1, 2, 3, 4]\n",
        "\n",
        "resultado = list(map(lambda x: base ** x, exp))\n",
        "\n",
        "print(resultado)"
      ],
      "metadata": {
        "colab": {
          "base_uri": "https://localhost:8080/"
        },
        "id": "OeMTNskIQpoJ",
        "outputId": "0605ed4b-8062-4f44-8e66-0a24be32db03"
      },
      "execution_count": 5,
      "outputs": [
        {
          "output_type": "stream",
          "name": "stdout",
          "text": [
            "[1, 2, 4, 8, 16]\n"
          ]
        }
      ]
    },
    {
      "cell_type": "markdown",
      "source": [
        "Escriba un programa Python para elevar al cuadrado los elementos de una lista."
      ],
      "metadata": {
        "id": "_GsQ9F2IQ3-i"
      }
    },
    {
      "cell_type": "code",
      "source": [
        "numeros = [1, 2, 3, 4, 5]\n",
        "cuadrados = list(map(lambda x: x ** 2, numeros))\n",
        "print(cuadrados)"
      ],
      "metadata": {
        "colab": {
          "base_uri": "https://localhost:8080/"
        },
        "id": "II9YK3yEQ57B",
        "outputId": "f8ffb9e1-6ba4-4fed-c5bc-576217013ccd"
      },
      "execution_count": 7,
      "outputs": [
        {
          "output_type": "stream",
          "name": "stdout",
          "text": [
            "[1, 4, 9, 16, 25]\n"
          ]
        }
      ]
    },
    {
      "cell_type": "markdown",
      "source": [
        "Escriba un programa en Python para convertir todos los caracteres en mayúsculas y minúsculas y eliminar las letras duplicadas de una secuencia determinada."
      ],
      "metadata": {
        "id": "2Ggj1yadRWk6"
      }
    },
    {
      "cell_type": "code",
      "source": [
        "secuencia = \"ejercicio 6 reducir una secuencia de caracteres\"\n",
        "mayusculas = secuencia.upper()\n",
        "minusculas = secuencia.lower()\n",
        "sin_duplicados = \"\".join(set(secuencia))\n",
        "\n",
        "print(\"Original:\", secuencia)\n",
        "print(\"Mayúsculas:\", mayusculas)\n",
        "print(\"Minúsculas:\", minusculas)\n",
        "print(\"Unicos:\", sin_duplicados)"
      ],
      "metadata": {
        "colab": {
          "base_uri": "https://localhost:8080/"
        },
        "id": "VbAw7CchRYbZ",
        "outputId": "d01d8c08-cf79-41ed-a669-44c731433897"
      },
      "execution_count": 8,
      "outputs": [
        {
          "output_type": "stream",
          "name": "stdout",
          "text": [
            "Original: ejercicio 6 reducir una secuencia de caracteres\n",
            "Mayúsculas: EJERCICIO 6 REDUCIR UNA SECUENCIA DE CARACTERES\n",
            "Minúsculas: ejercicio 6 reducir una secuencia de caracteres\n",
            "Unicos: oaestcji unr6d\n"
          ]
        }
      ]
    },
    {
      "cell_type": "markdown",
      "source": [
        "Escriba un programa Python para agregar dos listas dadas y encontrar la diferencia entre ellas."
      ],
      "metadata": {
        "id": "VciU0BVsRsW6"
      }
    },
    {
      "cell_type": "code",
      "source": [
        "from functools import reduce\n",
        "lista1 = [1, 2, 3, 4, 5]\n",
        "lista2 = [6, 7, 8, 9, 10]\n",
        "\n",
        "suma = list(map(lambda x, y: x + y, lista1, lista2))\n",
        "resta = list(map(lambda x, y: x - y, lista1, lista2))\n",
        "diferencia = reduce(lambda x, y: x + y, resta)\n",
        "\n",
        "print(f'La suma es {suma}')\n",
        "print(f'La resta es {resta}')     \n",
        "print(f'La diferencia es {diferencia}')"
      ],
      "metadata": {
        "colab": {
          "base_uri": "https://localhost:8080/"
        },
        "id": "JEUufEhNR4Za",
        "outputId": "d64e83c5-99dd-4ac6-a8f3-0657b4aff1b8"
      },
      "execution_count": 9,
      "outputs": [
        {
          "output_type": "stream",
          "name": "stdout",
          "text": [
            "La suma es [7, 9, 11, 13, 15]\n",
            "La resta es [-5, -5, -5, -5, -5]\n",
            "La diferencia es -25\n"
          ]
        }
      ]
    },
    {
      "cell_type": "markdown",
      "source": [
        "Escriba un programa en Python para convertir una lista dada de enteros y una tupla de enteros en una lista de cadenas."
      ],
      "metadata": {
        "id": "7p-KO2YKR7Oi"
      }
    },
    {
      "cell_type": "code",
      "source": [
        "lista = [1, 2, 3]\n",
        "tupla = (4, 5, 6)\n",
        "\n",
        "resultado = list(map(lambda x: str(x), lista + list(tupla)))\n",
        "\n",
        "print(resultado)"
      ],
      "metadata": {
        "colab": {
          "base_uri": "https://localhost:8080/"
        },
        "id": "CG62kFvwR85K",
        "outputId": "c27a451b-c112-4645-95bf-9e83d0942633"
      },
      "execution_count": 12,
      "outputs": [
        {
          "output_type": "stream",
          "name": "stdout",
          "text": [
            "['1', '2', '3', '4', '5', '6']\n"
          ]
        }
      ]
    },
    {
      "cell_type": "markdown",
      "source": [
        "Escriba un programa de Python para crear una nueva lista que tome elementos específicos de una tupla y convierta un valor de cadena en un número entero"
      ],
      "metadata": {
        "id": "lIU92CuVR-vS"
      }
    },
    {
      "cell_type": "code",
      "source": [
        "tupla = ('12', '34', '56', '78')\n",
        "indices = (0, 2, 3) \n",
        "\n",
        "numeros_enteros = list(map(lambda i: int(tupla[i]), indices))\n",
        "\n",
        "print(numeros_enteros)"
      ],
      "metadata": {
        "colab": {
          "base_uri": "https://localhost:8080/"
        },
        "id": "nRZ3Jpe0SALy",
        "outputId": "1d73003a-a2e1-44cc-dc9f-1add31f48a9f"
      },
      "execution_count": 11,
      "outputs": [
        {
          "output_type": "stream",
          "name": "stdout",
          "text": [
            "[12, 56, 78]\n"
          ]
        }
      ]
    },
    {
      "cell_type": "markdown",
      "source": [
        "Escriba un programa en Python para calcular el cuadrado de los primeros N números de Fibonacci y genere una lista de los números.\n",
        "\n",
        "\n",
        "Escriba un programa en Python para calcular la suma de los elementos de una matriz de enteros.\n",
        "\n",
        "Escriba un programa en Python para encontrar la razón de números positivos, números negativos y ceros en una matriz de enteros.\n"
      ],
      "metadata": {
        "id": "fvtYNRmISGZy"
      }
    },
    {
      "cell_type": "markdown",
      "source": [
        "Escriba un programa Python para intercalar dos listas en otra lista al azar."
      ],
      "metadata": {
        "id": "wz187e8tSv6B"
      }
    },
    {
      "cell_type": "code",
      "source": [
        "import random\n",
        "import itertools\n",
        "\n",
        "lista1 = [1, 3, 5, 7, 9]\n",
        "lista2 = [2, 4, 6, 8, 10]\n",
        "\n",
        "intercalados = list(itertools.chain(*zip(lista1, lista2)))\n",
        "\n",
        "random.shuffle(intercalados)\n",
        "\n",
        "print(intercalados)"
      ],
      "metadata": {
        "colab": {
          "base_uri": "https://localhost:8080/"
        },
        "id": "kDLCcl2uSxpS",
        "outputId": "6268dcec-7340-4c96-9a9d-76387cb6acc7"
      },
      "execution_count": 13,
      "outputs": [
        {
          "output_type": "stream",
          "name": "stdout",
          "text": [
            "[7, 8, 1, 2, 10, 5, 4, 6, 9, 3]\n"
          ]
        }
      ]
    },
    {
      "cell_type": "markdown",
      "source": [
        "Escriba un programa Python para dividir un diccionario dado de listas en una lista de diccionarios utilizando la función de mapa."
      ],
      "metadata": {
        "id": "W_iz0nq2S0tR"
      }
    },
    {
      "cell_type": "code",
      "source": [
        "diccionario = {\n",
        "    'nombres': ['Dai', 'Kmilo', 'Juan'],\n",
        "    'apellidoss': ['Paz', 'Salazar', 'Posso'],\n",
        "    'lugares': ['casa', 'parque', 'universidad']\n",
        "}\n",
        "\n",
        "lista_diccionarios = list(map(lambda x: {k: v[x] for k, v in diccionario.items()}, range(len(next(iter(diccionario.values()))))))\n",
        "\n",
        "print(lista_diccionarios)"
      ],
      "metadata": {
        "colab": {
          "base_uri": "https://localhost:8080/"
        },
        "id": "fGjepstJS48a",
        "outputId": "d65833d9-4365-4cc7-ba72-b047e9e87861"
      },
      "execution_count": 14,
      "outputs": [
        {
          "output_type": "stream",
          "name": "stdout",
          "text": [
            "[{'nombres': 'Dai', 'apellidoss': 'Paz', 'lugares': 'casa'}, {'nombres': 'Kmilo', 'apellidoss': 'Salazar', 'lugares': 'parque'}, {'nombres': 'Juan', 'apellidoss': 'Posso', 'lugares': 'universidad'}]\n"
          ]
        }
      ]
    },
    {
      "cell_type": "markdown",
      "source": [
        "Escriba un programa en Python para convertir una lista dada de cadenas en una lista de listas usando la función map"
      ],
      "metadata": {
        "id": "3QsCKwaETZBC"
      }
    },
    {
      "cell_type": "code",
      "source": [
        "strings = ['Paco', 'es', 'un', 'poderoso', 'dragon']\n",
        "listas = list(map(lambda s: list(s), strings))\n",
        "listas_de_una_cadena = list(map(lambda l: ''.join(l), listas))\n",
        "print(listas_de_una_cadena)"
      ],
      "metadata": {
        "colab": {
          "base_uri": "https://localhost:8080/"
        },
        "id": "px-GbLUWTb86",
        "outputId": "a8b7b8f6-e8f5-4c9d-8879-962ea5de34bd"
      },
      "execution_count": 16,
      "outputs": [
        {
          "output_type": "stream",
          "name": "stdout",
          "text": [
            "['Paco', 'es', 'un', 'poderoso', 'dragon']\n"
          ]
        }
      ]
    },
    {
      "cell_type": "markdown",
      "source": [
        "Escriba un programa en Python para convertir una lista dada de tuplas en una lista de cadenas usando la función map."
      ],
      "metadata": {
        "id": "0mFTPUmWT_P7"
      }
    },
    {
      "cell_type": "code",
      "source": [
        "lista_tuplas = [(1, 2, 3), (4, 5, 6), (7, 8, 9)]\n",
        "lista_cadenas = list(map(lambda tupla: ''.join(map(str, tupla)), lista_tuplas))\n",
        "print(lista_cadenas)"
      ],
      "metadata": {
        "colab": {
          "base_uri": "https://localhost:8080/"
        },
        "id": "Ttm5T_KRUCkr",
        "outputId": "cc465dde-e2ad-4a1e-9077-0c946233d2ef"
      },
      "execution_count": 17,
      "outputs": [
        {
          "output_type": "stream",
          "name": "stdout",
          "text": [
            "['123', '456', '789']\n"
          ]
        }
      ]
    }
  ]
}